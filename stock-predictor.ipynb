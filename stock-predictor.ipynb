{
 "cells": [
  {
   "cell_type": "markdown",
   "metadata": {},
   "source": [
    "## Stock Price Prediction Model\n",
    "### COSC 325 Course Project Fall 2024\n",
    "John Paul Saia<Br>\n",
    "Riley Taylor<Br>\n",
    "Shanna Wallace"
   ]
  },
  {
   "cell_type": "code",
   "execution_count": 3,
   "metadata": {},
   "outputs": [],
   "source": [
    "import numpy as np \n",
    "import pandas as pd"
   ]
  },
  {
   "cell_type": "code",
   "execution_count": 4,
   "metadata": {},
   "outputs": [
    {
     "data": {
      "text/html": [
       "<div>\n",
       "<style scoped>\n",
       "    .dataframe tbody tr th:only-of-type {\n",
       "        vertical-align: middle;\n",
       "    }\n",
       "\n",
       "    .dataframe tbody tr th {\n",
       "        vertical-align: top;\n",
       "    }\n",
       "\n",
       "    .dataframe thead th {\n",
       "        text-align: right;\n",
       "    }\n",
       "</style>\n",
       "<table border=\"1\" class=\"dataframe\">\n",
       "  <thead>\n",
       "    <tr style=\"text-align: right;\">\n",
       "      <th></th>\n",
       "      <th>Date</th>\n",
       "      <th>Open</th>\n",
       "      <th>High</th>\n",
       "      <th>Low</th>\n",
       "      <th>Close</th>\n",
       "      <th>Adj Close</th>\n",
       "      <th>Volume</th>\n",
       "    </tr>\n",
       "  </thead>\n",
       "  <tbody>\n",
       "    <tr>\n",
       "      <th>0</th>\n",
       "      <td>2015-01-02</td>\n",
       "      <td>151.500000</td>\n",
       "      <td>151.600006</td>\n",
       "      <td>148.500000</td>\n",
       "      <td>149.169998</td>\n",
       "      <td>149.169998</td>\n",
       "      <td>3436400</td>\n",
       "    </tr>\n",
       "    <tr>\n",
       "      <th>1</th>\n",
       "      <td>2015-01-05</td>\n",
       "      <td>148.809998</td>\n",
       "      <td>149.000000</td>\n",
       "      <td>146.779999</td>\n",
       "      <td>147.000000</td>\n",
       "      <td>147.000000</td>\n",
       "      <td>4168800</td>\n",
       "    </tr>\n",
       "    <tr>\n",
       "      <th>2</th>\n",
       "      <td>2015-01-06</td>\n",
       "      <td>147.639999</td>\n",
       "      <td>148.529999</td>\n",
       "      <td>146.110001</td>\n",
       "      <td>146.839996</td>\n",
       "      <td>146.839996</td>\n",
       "      <td>4116100</td>\n",
       "    </tr>\n",
       "    <tr>\n",
       "      <th>3</th>\n",
       "      <td>2015-01-07</td>\n",
       "      <td>147.940002</td>\n",
       "      <td>149.139999</td>\n",
       "      <td>147.649994</td>\n",
       "      <td>148.880005</td>\n",
       "      <td>148.880005</td>\n",
       "      <td>4159100</td>\n",
       "    </tr>\n",
       "    <tr>\n",
       "      <th>4</th>\n",
       "      <td>2015-01-08</td>\n",
       "      <td>150.600006</td>\n",
       "      <td>151.369995</td>\n",
       "      <td>150.509995</td>\n",
       "      <td>151.369995</td>\n",
       "      <td>151.369995</td>\n",
       "      <td>4282100</td>\n",
       "    </tr>\n",
       "  </tbody>\n",
       "</table>\n",
       "</div>"
      ],
      "text/plain": [
       "         Date        Open        High         Low       Close   Adj Close  \\\n",
       "0  2015-01-02  151.500000  151.600006  148.500000  149.169998  149.169998   \n",
       "1  2015-01-05  148.809998  149.000000  146.779999  147.000000  147.000000   \n",
       "2  2015-01-06  147.639999  148.529999  146.110001  146.839996  146.839996   \n",
       "3  2015-01-07  147.940002  149.139999  147.649994  148.880005  148.880005   \n",
       "4  2015-01-08  150.600006  151.369995  150.509995  151.369995  151.369995   \n",
       "\n",
       "    Volume  \n",
       "0  3436400  \n",
       "1  4168800  \n",
       "2  4116100  \n",
       "3  4159100  \n",
       "4  4282100  "
      ]
     },
     "execution_count": 4,
     "metadata": {},
     "output_type": "execute_result"
    }
   ],
   "source": [
    "file = \"./berkshire_hathaway_data.csv\"\n",
    "data = pd.read_csv(file)\n",
    "data.head()"
   ]
  }
 ],
 "metadata": {
  "kernelspec": {
   "display_name": ".venv",
   "language": "python",
   "name": "python3"
  },
  "language_info": {
   "codemirror_mode": {
    "name": "ipython",
    "version": 3
   },
   "file_extension": ".py",
   "mimetype": "text/x-python",
   "name": "python",
   "nbconvert_exporter": "python",
   "pygments_lexer": "ipython3",
   "version": "3.12.1"
  }
 },
 "nbformat": 4,
 "nbformat_minor": 2
}
